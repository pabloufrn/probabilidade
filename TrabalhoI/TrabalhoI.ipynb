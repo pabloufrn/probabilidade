{
 "cells": [
  {
   "cell_type": "markdown",
   "metadata": {},
   "source": [
    "## IMD0033 - Probabilidade\n",
    "\n",
    "# Trabalho I \n",
    "\n",
    "Este trabalho servirá como avaliação dos conteúdos relacionados a Estatística Descritiva.\n",
    "\n",
    "Data de entrega: Até 23:59 do dia 10/09\n",
    "\n",
    "Forma de entrega: Via SIGAA na forma de um jupyter notebook.\n",
    "\n",
    "### Questão 1 (2 pontos)\n",
    "\n",
    "Defina com suas palavras e de forma sucinta os termos abaixo:\n",
    "\n",
    "a) (0,25 pontos) População"
   ]
  },
  {
   "cell_type": "markdown",
   "metadata": {},
   "source": [
    "Resposta: Todos os dados disponíveis para análise"
   ]
  },
  {
   "cell_type": "markdown",
   "metadata": {},
   "source": [
    "b) (0,25 pontos) Amostra"
   ]
  },
  {
   "cell_type": "markdown",
   "metadata": {},
   "source": [
    "Resposta: Parte do população que será usada nos cálculos."
   ]
  },
  {
   "cell_type": "markdown",
   "metadata": {},
   "source": [
    "c) (0,25 pontos) Conceito (em um desenho experimental)"
   ]
  },
  {
   "cell_type": "markdown",
   "metadata": {},
   "source": [
    "Resposta: Objetivo alvo que não pode ser representado diretamente em formatos de dados."
   ]
  },
  {
   "cell_type": "markdown",
   "metadata": {},
   "source": [
    "d) (0,25 pontos) Definição operacional"
   ]
  },
  {
   "cell_type": "markdown",
   "metadata": {},
   "source": [
    "Resposta: Dado(s) relacionado(s) ao conceito que podem representar o objeto alvo na análise."
   ]
  },
  {
   "cell_type": "markdown",
   "metadata": {},
   "source": [
    "e) (0,25 pontos) Desvio"
   ]
  },
  {
   "cell_type": "markdown",
   "metadata": {},
   "source": [
    "Resposta: É um tipo de medida calculado com base na média das diferenças de determinados pontos dos seus dados, por exemplo, os pontos dos quatis ou da amostra."
   ]
  },
  {
   "cell_type": "markdown",
   "metadata": {},
   "source": [
    "f) (0,25 pontos) Medidas de tendência central"
   ]
  },
  {
   "cell_type": "markdown",
   "metadata": {},
   "source": [
    "Resposta: São medidas que tentam mostrar a distribuição dos dados, nesse caso, como os dados estão acumulados."
   ]
  },
  {
   "cell_type": "markdown",
   "metadata": {},
   "source": [
    "g) (0,25 pontos) Medidas de dispersão"
   ]
  },
  {
   "cell_type": "markdown",
   "metadata": {},
   "source": [
    "Resposta: São como as medidas de dispersão, mas tentam mostrar como seus dados estão acumulados."
   ]
  },
  {
   "cell_type": "markdown",
   "metadata": {},
   "source": [
    "h) (0,25 pontos) Outlier"
   ]
  },
  {
   "cell_type": "markdown",
   "metadata": {},
   "source": [
    "Resposta: Pontos extremos do dados, em que há poucos dados e o desvio dos pontos centrais até eles é muito alto."
   ]
  },
  {
   "cell_type": "markdown",
   "metadata": {},
   "source": [
    "### Questão 2 (2 pontos)\n",
    "\n",
    "Reflita sobre as seguintes afirmações, indique se é verdadeiro ou falso e justifique:\n",
    "\n",
    "a) (0,5 pontos) Se a variância de um conjunto de dados é 0,1, podemos certamente afirmar que os dados encontram-se muito dispersos da média."
   ]
  },
  {
   "cell_type": "markdown",
   "metadata": {},
   "source": [
    "Resposta: Não, isso depende da aplicação. Quando maior a variância mais dispersos estão os dados e, no geral, uma variância de 0,1 indicar que os dados não estão muito dispersos. "
   ]
  },
  {
   "cell_type": "markdown",
   "metadata": {},
   "source": [
    "b) (0,5 pontos) A covariância é a média do quadrado dos desvios."
   ]
  },
  {
   "cell_type": "markdown",
   "metadata": {},
   "source": [
    "Resposta: Não."
   ]
  },
  {
   "cell_type": "markdown",
   "metadata": {},
   "source": [
    "c) (0,5 pontos) Quando transformamos os dados através do z-score, a distribuição dos dados se torna uma normal."
   ]
  },
  {
   "cell_type": "markdown",
   "metadata": {},
   "source": [
    "Resposta: Sim."
   ]
  },
  {
   "cell_type": "markdown",
   "metadata": {},
   "source": [
    "d) (0,5 pontos) Ao analisar a correlação entre duas variáveis, se verificarmos uma correlação de 0.9, o que é considerada alta, não podemos afirmar que a variável independente seja a causa da variável dependente."
   ]
  },
  {
   "cell_type": "markdown",
   "metadata": {},
   "source": [
    "Resposta: Não, uma correlação alta indica que  variável independente é a causa da variável dependente."
   ]
  },
  {
   "cell_type": "markdown",
   "metadata": {},
   "source": [
    "### Questão 3 (3 pontos)\n",
    "\n",
    "Nesta questão, considere o arquivo [CO2_emission.txt](CO2_emission.txt). Este arquivo contém dados de emissão de CO2 em kT (quilotonelada) emitido pelos países ao longo no período de 2000 a 2014. Desconsiderando aqueles países que apresentam valores faltantes (\"..\"), responda:\n",
    "\n",
    "a) (0,5 pontos) Qual foi o país que menos emitiu CO2 ao longo destes anos?"
   ]
  },
  {
   "cell_type": "code",
   "execution_count": 1,
   "metadata": {},
   "outputs": [],
   "source": [
    "import numpy as np\n",
    "import pandas as pd"
   ]
  },
  {
   "cell_type": "code",
   "execution_count": 2,
   "metadata": {
    "scrolled": true
   },
   "outputs": [
    {
     "data": {
      "text/plain": [
       "'Tuvalu'"
      ]
     },
     "execution_count": 2,
     "metadata": {},
     "output_type": "execute_result"
    }
   ],
   "source": [
    "df = pd.read_csv('CO2_emission.txt', sep='\\t', index_col='Country Name', na_values='..')\n",
    "df = df.loc[:'Zimbabwe', '2000 [YR2000]':].dropna()\n",
    "df.columns = [c.split()[0] for c in df.columns]\n",
    "srsum = df.sum(axis = 1) \n",
    "srsum.idxmin()"
   ]
  },
  {
   "cell_type": "markdown",
   "metadata": {},
   "source": [
    "O país que menos emitiu CO2 na atmosfera foi Tuvalu."
   ]
  },
  {
   "cell_type": "markdown",
   "metadata": {},
   "source": [
    "b) (1 ponto) Qual foi o país que teve a menor média da taxa de emissão de CO2 ao longo destes anos? Considere a taxa de emissão de CO2 como sendo a razão entre a quantidade de CO2 emitido em um ano com o emitido no ano anterior."
   ]
  },
  {
   "cell_type": "code",
   "execution_count": 3,
   "metadata": {},
   "outputs": [
    {
     "data": {
      "text/plain": [
       "'Aruba'"
      ]
     },
     "execution_count": 3,
     "metadata": {},
     "output_type": "execute_result"
    }
   ],
   "source": [
    "columns = df.columns\n",
    "srtaxas = pd.Series((0 for _ in range(len(df))))\n",
    "srtaxas.index = df.index\n",
    "for irow, row in df.iterrows():\n",
    "    harm_sum = 1/row[df.columns[0]]\n",
    "    lastcolumn = df.columns[0]\n",
    "    for column in df.columns[1:-1]:\n",
    "        harm_sum += 1 / (row[column] / row[lastcolumn])\n",
    "        lastcolumn = column\n",
    "    srtaxas.loc[irow] = (len(df.columns)-1) / harm_sum\n",
    "srtaxas.idxmin()"
   ]
  },
  {
   "cell_type": "markdown",
   "metadata": {},
   "source": [
    "O país que teve a menor média da taxa de emissão de CO2 ao longo destes anos foi Aruba."
   ]
  },
  {
   "cell_type": "markdown",
   "metadata": {},
   "source": [
    "c) (0,5 pontos) Qual posição o Brasil ocupa no rank dos países que mais emitiram CO2 ao longo destes anos?"
   ]
  },
  {
   "cell_type": "code",
   "execution_count": 4,
   "metadata": {},
   "outputs": [
    {
     "data": {
      "text/plain": [
       "'16ª posição'"
      ]
     },
     "execution_count": 4,
     "metadata": {},
     "output_type": "execute_result"
    }
   ],
   "source": [
    "srrank = srsum.sort_values(ascending=False)\n",
    "str(srrank.index.get_loc('Brazil') + 1) + 'ª posição' "
   ]
  },
  {
   "cell_type": "markdown",
   "metadata": {},
   "source": [
    "O Brasil ocupa a 16ª posição no rank dos países que mais emitiram CO2 ao longo destes anos."
   ]
  },
  {
   "attachments": {
    "image.png": {
     "image/png": "[encoded data removed]"
    }
   },
   "cell_type": "markdown",
   "metadata": {},
   "source": [
    "d) (1 ponto) A Noruega é um dos países que vem fazendo esforço para diminuir a emissão de CO2. Abaixo se encontra o gráfico que demonstra a quantidade de CO2 emitido por este país ao longo do período apresentado pelos dados. Tendo em mente este padrão de emissão de CO2 da Noruega, qual o país que possui um padrão de emissão de CO2 mais similar ao padrão da Noruega? Plote um gráfico que consiga demonstrar a semelhança dos padrões de emissão de CO2 entre os dois países. Plote também no mesmo gráfico o padrão de emissão de CO2 do país que seja menos similar ao padrão da Noruega.\n",
    "\n",
    "![image.png](attachment:image.png)"
   ]
  },
  {
   "cell_type": "code",
   "execution_count": 6,
   "metadata": {},
   "outputs": [
    {
     "data": {
      "text/plain": [
       "<matplotlib.axes._subplots.AxesSubplot at 0x7f63c2db5320>"
      ]
     },
     "execution_count": 6,
     "metadata": {},
     "output_type": "execute_result"
    },
    {
     "data": {
      "image/png": "[encoded data removed]",
      "text/plain": [
       "<Figure size 432x288 with 1 Axes>"
      ]
     },
     "metadata": {
      "needs_background": "light"
     },
     "output_type": "display_data"
    }
   ],
   "source": [
    "country = df.T.corr()['Norway'].nlargest(2).index[1]\n",
    "df.loc[country].plot.line()"
   ]
  },
  {
   "cell_type": "markdown",
   "metadata": {},
   "source": [
    "### Questão 4 (3 pontos)\n",
    "\n",
    "Considere nesta questão o arquivo de dados [wdbc.data](wdbc.data). Estes dados contém algumas medidas de células tumorais de mama. Uma breve descrição das colunas podem ser obtidas a partir do arquivo [wdbc.names](wdbc.names). As amostras de células tumorais contidas nesta tabela foram classificadas em benigno (B) ou maligno (M). Diante disso pede-se:\n",
    "\n",
    "a) (0,75 pontos) Indique a variável numérica que apresenta a maior variação (ou dispersão)."
   ]
  },
  {
   "cell_type": "code",
   "execution_count": 38,
   "metadata": {},
   "outputs": [
    {
     "data": {
      "text/plain": [
       "25"
      ]
     },
     "execution_count": 38,
     "metadata": {},
     "output_type": "execute_result"
    }
   ],
   "source": [
    "df = pd.read_csv('wdbc.data', header=None)\n",
    "dfnum = df.iloc[:, 2:]\n",
    "dfnum.var().idxmax()"
   ]
  },
  {
   "cell_type": "markdown",
   "metadata": {},
   "source": [
    "b) (0,75 pontos) Para cada grupo de amostras (tumor benigno/maligno), calcule a média e o desvio padrão de cada uma das variáveis numéricas."
   ]
  },
  {
   "cell_type": "code",
   "execution_count": null,
   "metadata": {},
   "outputs": [],
   "source": []
  },
  {
   "cell_type": "markdown",
   "metadata": {},
   "source": [
    "c) (0,75 pontos) Plote um gráfico de forma que você consiga visualizar os valores de medidas calculadas no item anterior."
   ]
  },
  {
   "cell_type": "code",
   "execution_count": null,
   "metadata": {},
   "outputs": [],
   "source": []
  },
  {
   "cell_type": "markdown",
   "metadata": {},
   "source": [
    "d) (0,75 pontos) O interesse deste trabalho é verificar se algumas destas variáveis podem ajudar na classificação de novas amostras tumorais em benigno ou maligno. Com base no gráfico que você gerou no item anterior, sugira uma medida que seja importante na distinção entre o tumor benigno e maligno."
   ]
  },
  {
   "cell_type": "code",
   "execution_count": null,
   "metadata": {},
   "outputs": [],
   "source": []
  }
 ],
 "metadata": {
  "kernelspec": {
   "display_name": "Python 3",
   "language": "python",
   "name": "python3"
  },
  "language_info": {
   "codemirror_mode": {
    "name": "ipython",
    "version": 3
   },
   "file_extension": ".py",
   "mimetype": "text/x-python",
   "name": "python",
   "nbconvert_exporter": "python",
   "pygments_lexer": "ipython3",
   "version": "3.7.1"
  }
 },
 "nbformat": 4,
 "nbformat_minor": 2
}
