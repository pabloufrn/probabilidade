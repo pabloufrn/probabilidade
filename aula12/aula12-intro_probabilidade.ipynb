{
 "cells": [
  {
   "cell_type": "markdown",
   "metadata": {},
   "source": [
    "# Probabilidade\n",
    "\n",
    "## Introdução"
   ]
  },
  {
   "cell_type": "code",
   "execution_count": 2,
   "metadata": {},
   "outputs": [],
   "source": [
    "import numpy as np\n",
    "import matplotlib.pyplot as plt"
   ]
  },
  {
   "cell_type": "markdown",
   "metadata": {},
   "source": [
    "### Simulação de jogadas de moeda"
   ]
  },
  {
   "cell_type": "code",
   "execution_count": 10,
   "metadata": {},
   "outputs": [
    {
     "name": "stdout",
     "output_type": "stream",
     "text": [
      "0.500372\n"
     ]
    }
   ],
   "source": [
    "n = 1000000\n",
    "sum = 0;\n",
    "for i in range(n):\n",
    "    sum += np.random.randint(2)\n",
    "print(sum/n)"
   ]
  },
  {
   "cell_type": "markdown",
   "metadata": {
    "collapsed": true
   },
   "source": [
    "### Simulação do jogo de três cartas\n",
    "\n",
    "#### Exercício 1\n",
    "\n",
    "Simule o jogo das três cartas e verifique a probabilidade de você ganhar o jogo escolhendo sempre a mesma cor da face exposta."
   ]
  },
  {
   "cell_type": "code",
   "execution_count": 23,
   "metadata": {},
   "outputs": [
    {
     "name": "stdout",
     "output_type": "stream",
     "text": [
      "cartas iguais: 69 cartas diferentes: 31\n"
     ]
    }
   ],
   "source": [
    "cards = [\"BB\",\"WB\",\"WW\"]\n",
    "n = 100\n",
    "same = 0\n",
    "diff = 0\n",
    "for i in range(n):\n",
    "    play = np.random.randint(3)\n",
    "    if (cards[play] == \"WB\"):\n",
    "        diff += 1\n",
    "    else:\n",
    "        same += 1\n",
    "\n",
    "print(\"cartas iguais: %d cartas diferentes: %d\" % (same, diff))"
   ]
  },
  {
   "cell_type": "markdown",
   "metadata": {
    "collapsed": true
   },
   "source": [
    "#### Exercício 2\n",
    "\n",
    "Simule o jogo das três portas e verifique a probabilidade de você ganhar o prêmio caso você escolha trocar a porta."
   ]
  },
  {
   "cell_type": "code",
   "execution_count": 5,
   "metadata": {},
   "outputs": [
    {
     "name": "stdout",
     "output_type": "stream",
     "text": [
      "0.6673\n"
     ]
    }
   ],
   "source": [
    "n = 10000\n",
    "ganho = 0;\n",
    "for i in range(n):\n",
    "    premio = np.random.randint(3)\n",
    "    escolha = np.random.randint(3)\n",
    "    \n",
    "    if(premio != escolha):\n",
    "        ganho += 1\n",
    "        \n",
    "print(ganho/n)"
   ]
  },
  {
   "cell_type": "markdown",
   "metadata": {},
   "source": [
    "#### Exercício 3\n",
    "\n",
    "Simule o mesmo jogo das portas, mas desta vez com quatro portas. Vamos supor que o apresentador, após a sua primeira escolha ele revele para você uma porta vazia. Verifique a probabilidade de você ganhar o prêmio caso você escolha uma das duas outras portas."
   ]
  },
  {
   "cell_type": "code",
   "execution_count": 7,
   "metadata": {},
   "outputs": [
    {
     "name": "stdout",
     "output_type": "stream",
     "text": [
      "0.37418\n"
     ]
    }
   ],
   "source": [
    "n = 1000000\n",
    "ganho = 0;\n",
    "for i in range(n):\n",
    "    premio = np.random.randint(4)\n",
    "    escolha = np.random.randint(4)\n",
    "    \n",
    "    if(premio != escolha):\n",
    "        premio2 = np.random.randint(2)\n",
    "        escolha2 = np.random.randint(2)\n",
    "        if (escolha2 == premio2):\n",
    "            ganho += 1\n",
    "        \n",
    "print(ganho/n)"
   ]
  },
  {
   "cell_type": "code",
   "execution_count": null,
   "metadata": {},
   "outputs": [],
   "source": []
  }
 ],
 "metadata": {
  "kernelspec": {
   "display_name": "Python 3",
   "language": "python",
   "name": "python3"
  },
  "language_info": {
   "codemirror_mode": {
    "name": "ipython",
    "version": 3
   },
   "file_extension": ".py",
   "mimetype": "text/x-python",
   "name": "python",
   "nbconvert_exporter": "python",
   "pygments_lexer": "ipython3",
   "version": "3.7.3"
  }
 },
 "nbformat": 4,
 "nbformat_minor": 2
}
