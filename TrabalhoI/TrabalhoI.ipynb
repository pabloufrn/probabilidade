{
 "cells": [
  {
   "cell_type": "markdown",
   "metadata": {},
   "source": [
    "Para leitura mais eficiênte das respostas utilize ctrl+f buscando por <span style=\"color:#090\">Resposta:</span>"
   ]
  },
  {
   "cell_type": "markdown",
   "metadata": {},
   "source": [
    "## IMD0033 - Probabilidade\n",
    "\n",
    "# Trabalho I \n",
    "\n",
    "Este trabalho servirá como avaliação dos conteúdos relacionados a Estatística Descritiva.\n",
    "\n",
    "Data de entrega: Até 23:59 do dia 10/09\n",
    "\n",
    "Forma de entrega: Via SIGAA na forma de um jupyter notebook.\n",
    "\n",
    "### Questão 1 (2 pontos)\n",
    "\n",
    "Defina com suas palavras e de forma sucinta os termos abaixo:\n",
    "\n",
    "a) (0,25 pontos) População"
   ]
  },
  {
   "cell_type": "markdown",
   "metadata": {},
   "source": [
    "Resposta: Todos os dados disponíveis para análise"
   ]
  },
  {
   "cell_type": "markdown",
   "metadata": {},
   "source": [
    "b) (0,25 pontos) Amostra"
   ]
  },
  {
   "cell_type": "markdown",
   "metadata": {},
   "source": [
    "Resposta: Parte do população que será usada nos cálculos."
   ]
  },
  {
   "cell_type": "markdown",
   "metadata": {},
   "source": [
    "c) (0,25 pontos) Conceito (em um desenho experimental)"
   ]
  },
  {
   "cell_type": "markdown",
   "metadata": {},
   "source": [
    "Resposta: Objetivo alvo que não pode ser representado diretamente em formatos de dados."
   ]
  },
  {
   "cell_type": "markdown",
   "metadata": {},
   "source": [
    "d) (0,25 pontos) Definição operacional"
   ]
  },
  {
   "cell_type": "markdown",
   "metadata": {},
   "source": [
    "Resposta: Dado(s) relacionado(s) ao conceito que podem representar o objeto alvo na análise."
   ]
  },
  {
   "cell_type": "markdown",
   "metadata": {},
   "source": [
    "e) (0,25 pontos) Desvio"
   ]
  },
  {
   "cell_type": "markdown",
   "metadata": {},
   "source": [
    "Resposta: É um tipo de medida calculado com base na média das diferenças de determinados pontos dos seus dados, por exemplo, os pontos dos quatis ou da amostra."
   ]
  },
  {
   "cell_type": "markdown",
   "metadata": {},
   "source": [
    "f) (0,25 pontos) Medidas de tendência central"
   ]
  },
  {
   "cell_type": "markdown",
   "metadata": {},
   "source": [
    "Resposta: São medidas que tentam mostrar a distribuição dos dados, nesse caso, como os dados estão acumulados."
   ]
  },
  {
   "cell_type": "markdown",
   "metadata": {},
   "source": [
    "g) (0,25 pontos) Medidas de dispersão"
   ]
  },
  {
   "cell_type": "markdown",
   "metadata": {},
   "source": [
    "Resposta: São como as medidas de dispersão, mas tentam mostrar como seus dados estão acumulados."
   ]
  },
  {
   "cell_type": "markdown",
   "metadata": {},
   "source": [
    "h) (0,25 pontos) Outlier"
   ]
  },
  {
   "cell_type": "markdown",
   "metadata": {},
   "source": [
    "Resposta: Pontos extremos do dados, em que há poucos dados e o desvio dos pontos centrais até eles é muito alto."
   ]
  },
  {
   "cell_type": "markdown",
   "metadata": {},
   "source": [
    "### Questão 2 (2 pontos)\n",
    "\n",
    "Reflita sobre as seguintes afirmações, indique se é verdadeiro ou falso e justifique:\n",
    "\n",
    "a) (0,5 pontos) Se a variância de um conjunto de dados é 0,1, podemos certamente afirmar que os dados encontram-se muito dispersos da média."
   ]
  },
  {
   "cell_type": "markdown",
   "metadata": {},
   "source": [
    "Resposta: Não, isso depende da aplicação. Quando maior a variância mais dispersos estão os dados e, no geral, uma variância de 0,1 indicar que os dados não estão muito dispersos. "
   ]
  },
  {
   "cell_type": "markdown",
   "metadata": {},
   "source": [
    "b) (0,5 pontos) A covariância é a média do quadrado dos desvios."
   ]
  },
  {
   "cell_type": "markdown",
   "metadata": {},
   "source": [
    "Resposta: Não. A covariância envolve duas variavéis e é medida pela média do produtos dos desvios de cada variável. "
   ]
  },
  {
   "cell_type": "markdown",
   "metadata": {},
   "source": [
    "c) (0,5 pontos) Quando transformamos os dados através do z-score, a distribuição dos dados se torna uma normal."
   ]
  },
  {
   "cell_type": "markdown",
   "metadata": {},
   "source": [
    "Resposta: Sim. Esse é o objetivo do z-score."
   ]
  },
  {
   "cell_type": "markdown",
   "metadata": {},
   "source": [
    "d) (0,5 pontos) Ao analisar a correlação entre duas variáveis, se verificarmos uma correlação de 0.9, o que é considerada alta, não podemos afirmar que a variável independente seja a causa da variável dependente."
   ]
  },
  {
   "cell_type": "markdown",
   "metadata": {},
   "source": [
    "Resposta: Não, uma correlação alta indica que  variável independente é a causa da variável dependente."
   ]
  },
  {
   "cell_type": "markdown",
   "metadata": {},
   "source": [
    "### Questão 3 (3 pontos)\n",
    "\n",
    "Nesta questão, considere o arquivo [CO2_emission.txt](CO2_emission.txt). Este arquivo contém dados de emissão de CO2 em kT (quilotonelada) emitido pelos países ao longo no período de 2000 a 2014. Desconsiderando aqueles países que apresentam valores faltantes (\"..\"), responda:\n",
    "\n",
    "a) (0,5 pontos) Qual foi o país que menos emitiu CO2 ao longo destes anos?"
   ]
  },
  {
   "cell_type": "code",
   "execution_count": 1,
   "metadata": {},
   "outputs": [],
   "source": [
    "import numpy as np\n",
    "import pandas as pd"
   ]
  },
  {
   "cell_type": "code",
   "execution_count": 2,
   "metadata": {
    "scrolled": true
   },
   "outputs": [
    {
     "data": {
      "text/plain": [
       "'Tuvalu'"
      ]
     },
     "execution_count": 2,
     "metadata": {},
     "output_type": "execute_result"
    }
   ],
   "source": [
    "df = pd.read_csv('CO2_emission.txt', sep='\\t', index_col='Country Name', na_values='..')\n",
    "df = df.loc[:'Zimbabwe', '2000 [YR2000]':].dropna()\n",
    "df.columns = [c.split()[0] for c in df.columns]\n",
    "srsum = df.sum(axis = 1) \n",
    "srsum.idxmin()"
   ]
  },
  {
   "cell_type": "markdown",
   "metadata": {},
   "source": [
    "Resposta: O país que menos emitiu CO2 na atmosfera foi Tuvalu."
   ]
  },
  {
   "cell_type": "markdown",
   "metadata": {},
   "source": [
    "b) (1 ponto) Qual foi o país que teve a menor média da taxa de emissão de CO2 ao longo destes anos? Considere a taxa de emissão de CO2 como sendo a razão entre a quantidade de CO2 emitido em um ano com o emitido no ano anterior."
   ]
  },
  {
   "cell_type": "code",
   "execution_count": 3,
   "metadata": {},
   "outputs": [
    {
     "data": {
      "text/plain": [
       "'Aruba'"
      ]
     },
     "execution_count": 3,
     "metadata": {},
     "output_type": "execute_result"
    }
   ],
   "source": [
    "columns = df.columns\n",
    "srtaxas = pd.Series((0 for _ in range(len(df))))\n",
    "srtaxas.index = df.index\n",
    "for irow, row in df.iterrows():\n",
    "    harm_sum = 1/row[df.columns[0]]\n",
    "    lastcolumn = df.columns[0]\n",
    "    for column in df.columns[1:-1]:\n",
    "        harm_sum += 1 / (row[column] / row[lastcolumn])\n",
    "        lastcolumn = column\n",
    "    srtaxas.loc[irow] = (len(df.columns)-1) / harm_sum\n",
    "srtaxas.idxmin()"
   ]
  },
  {
   "cell_type": "markdown",
   "metadata": {},
   "source": [
    "Resposta: O país que teve a menor média da taxa de emissão de CO2 ao longo destes anos foi Aruba."
   ]
  },
  {
   "cell_type": "markdown",
   "metadata": {},
   "source": [
    "c) (0,5 pontos) Qual posição o Brasil ocupa no rank dos países que mais emitiram CO2 ao longo destes anos?"
   ]
  },
  {
   "cell_type": "code",
   "execution_count": 4,
   "metadata": {},
   "outputs": [
    {
     "data": {
      "text/plain": [
       "'16ª posição'"
      ]
     },
     "execution_count": 4,
     "metadata": {},
     "output_type": "execute_result"
    }
   ],
   "source": [
    "srrank = srsum.sort_values(ascending=False)\n",
    "str(srrank.index.get_loc('Brazil') + 1) + 'ª posição' "
   ]
  },
  {
   "cell_type": "markdown",
   "metadata": {},
   "source": [
    "Resposta: O Brasil ocupa a 16ª posição no rank dos países que mais emitiram CO2 ao longo destes anos."
   ]
  },
  {
   "attachments": {
    "image.png": {
     "image/png": "[encoded data removed]"
    }
   },
   "cell_type": "markdown",
   "metadata": {},
   "source": [
    "d) (1 ponto) A Noruega é um dos países que vem fazendo esforço para diminuir a emissão de CO2. Abaixo se encontra o gráfico que demonstra a quantidade de CO2 emitido por este país ao longo do período apresentado pelos dados. Tendo em mente este padrão de emissão de CO2 da Noruega, qual o país que possui um padrão de emissão de CO2 mais similar ao padrão da Noruega? Plote um gráfico que consiga demonstrar a semelhança dos padrões de emissão de CO2 entre os dois países. Plote também no mesmo gráfico o padrão de emissão de CO2 do país que seja menos similar ao padrão da Noruega.\n",
    "\n",
    "![image.png](attachment:image.png)"
   ]
  },
  {
   "cell_type": "code",
   "execution_count": 5,
   "metadata": {},
   "outputs": [
    {
     "name": "stdout",
     "output_type": "stream",
     "text": [
      "Respo\u0000sta: O país que mais demonstrou o padrão mais semelhante a noruega foi Grenada.\n"
     ]
    }
   ],
   "source": [
    "country = df.T.corr()['Norway'].nlargest(2).index[1]\n",
    "df.loc[country].plot.line()\n",
    "print(f\"Respo\\0sta: O país que mais demonstrou o padrão mais semelhante a noruega foi {country}.\")"
   ]
  },
  {
   "cell_type": "markdown",
   "metadata": {},
   "source": [
    "### Questão 4 (3 pontos)\n",
    "\n",
    "Considere nesta questão o arquivo de dados [wdbc.data](wdbc.data). Estes dados contém algumas medidas de células tumorais de mama. Uma breve descrição das colunas podem ser obtidas a partir do arquivo [wdbc.names](wdbc.names). As amostras de células tumorais contidas nesta tabela foram classificadas em benigno (B) ou maligno (M). Diante disso pede-se:\n",
    "\n",
    "a) (0,75 pontos) Indique a variável numérica que apresenta a maior variação (ou dispersão)."
   ]
  },
  {
   "cell_type": "code",
   "execution_count": 6,
   "metadata": {},
   "outputs": [
    {
     "data": {
      "text/plain": [
       "('nucleus three', 'dimension')"
      ]
     },
     "execution_count": 6,
     "metadata": {},
     "output_type": "execute_result"
    }
   ],
   "source": [
    "df = pd.read_csv('wdbc.data', header=None, index_col=0)\n",
    "features = ['radius','texture','perimeter','area','smoothness','compactness',  \n",
    "            'concavity','concave','points','symmetry','fractal','dimension']     \n",
    "features_index = ['info'] + ['nucleus one'] * 10 + ['nucleus two'] * 10 + ['nucleus three'] * 10\n",
    "features_info = ['Diagnosis'] + features * 3\n",
    "tuples = list(zip(*[features_index, features_info]))\n",
    "mindex = pd.MultiIndex.from_tuples(tuples)\n",
    "df.columns = mindex\n",
    "dfnum = df.iloc[:, 2:]\n",
    "dfnum.var().idxmax()"
   ]
  },
  {
   "cell_type": "markdown",
   "metadata": {},
   "source": [
    "Resposta: A variável que representa a área do \"terceiro\" Núcleo celular apresentou a maior dispersão, utilizando a medida de variância. "
   ]
  },
  {
   "cell_type": "markdown",
   "metadata": {},
   "source": [
    "b) (0,75 pontos) Para cada grupo de amostras (tumor benigno/maligno), calcule a média e o desvio padrão de cada uma das variáveis numéricas."
   ]
  },
  {
   "cell_type": "code",
   "execution_count": 7,
   "metadata": {
    "scrolled": true
   },
   "outputs": [
    {
     "name": "stdout",
     "output_type": "stream",
     "text": [
      "Respo\u0000sta: \n",
      "---------\n",
      "Desvio Padrão - tumor maligno\n",
      "nucleus one    radius           3.203971\n",
      "               texture          3.779470\n",
      "               perimeter       21.854653\n",
      "               area           367.937978\n",
      "               smoothness       0.012608\n",
      "               compactness      0.053987\n",
      "               concavity        0.075019\n",
      "               concave          0.034374\n",
      "               points           0.027638\n",
      "               symmetry         0.007573\n",
      "nucleus two    fractal          0.345039\n",
      "               dimension        0.483178\n",
      "               radius           2.568546\n",
      "               texture         61.355268\n",
      "               perimeter        0.002890\n",
      "               area             0.018387\n",
      "               smoothness       0.021603\n",
      "               compactness      0.005517\n",
      "               concavity        0.010065\n",
      "               concave          0.002041\n",
      "nucleus three  points           4.283569\n",
      "               symmetry         5.434804\n",
      "               fractal         29.457055\n",
      "               dimension      597.967743\n",
      "               radius           0.021870\n",
      "               texture          0.170372\n",
      "               perimeter        0.181507\n",
      "               area             0.046308\n",
      "               smoothness       0.074685\n",
      "               compactness      0.021553\n",
      "dtype: float64\n",
      "---------\n",
      "Desvio Padrão - tumor benigno\n",
      "nucleus one    radius           1.780512\n",
      "               texture          3.995125\n",
      "               perimeter       11.807438\n",
      "               area           134.287118\n",
      "               smoothness       0.013446\n",
      "               compactness      0.033750\n",
      "               concavity        0.043442\n",
      "               concave          0.015909\n",
      "               points           0.024807\n",
      "               symmetry         0.006747\n",
      "nucleus two    fractal          0.112570\n",
      "               dimension        0.589180\n",
      "               radius           0.771169\n",
      "               texture          8.843472\n",
      "               perimeter        0.003061\n",
      "               area             0.016352\n",
      "               smoothness       0.032918\n",
      "               compactness      0.005709\n",
      "               concavity        0.006999\n",
      "               concave          0.002938\n",
      "nucleus three  points           1.981368\n",
      "               symmetry         5.493955\n",
      "               fractal         13.527091\n",
      "               dimension      163.601424\n",
      "               radius           0.020013\n",
      "               texture          0.092180\n",
      "               perimeter        0.140368\n",
      "               area             0.035797\n",
      "               smoothness       0.041745\n",
      "               compactness      0.013804\n",
      "dtype: float64\n",
      "---------\n",
      "Média - tumor maligno\n",
      "nucleus one    radius           17.462830\n",
      "               texture          21.604906\n",
      "               perimeter       115.365377\n",
      "               area            978.376415\n",
      "               smoothness        0.102898\n",
      "               compactness       0.145188\n",
      "               concavity         0.160775\n",
      "               concave           0.087990\n",
      "               points            0.192909\n",
      "               symmetry          0.062680\n",
      "nucleus two    fractal           0.609083\n",
      "               dimension         1.210915\n",
      "               radius            4.323929\n",
      "               texture          72.672406\n",
      "               perimeter         0.006780\n",
      "               area              0.032281\n",
      "               smoothness        0.041824\n",
      "               compactness       0.015060\n",
      "               concavity         0.020472\n",
      "               concave           0.004062\n",
      "nucleus three  points           21.134811\n",
      "               symmetry         29.318208\n",
      "               fractal         141.370330\n",
      "               dimension      1422.286321\n",
      "               radius            0.144845\n",
      "               texture           0.374824\n",
      "               perimeter         0.450606\n",
      "               area              0.182237\n",
      "               smoothness        0.323468\n",
      "               compactness       0.091530\n",
      "dtype: float64\n",
      "---------\n",
      "Média - tumor benigno\n",
      "nucleus one    radius          12.146524\n",
      "               texture         17.914762\n",
      "               perimeter       78.075406\n",
      "               area           462.790196\n",
      "               smoothness       0.092478\n",
      "               compactness      0.080085\n",
      "               concavity        0.046058\n",
      "               concave          0.025717\n",
      "               points           0.174186\n",
      "               symmetry         0.062867\n",
      "nucleus two    fractal          0.284082\n",
      "               dimension        1.220380\n",
      "               radius           2.000321\n",
      "               texture         21.135148\n",
      "               perimeter        0.007196\n",
      "               area             0.021438\n",
      "               smoothness       0.025997\n",
      "               compactness      0.009858\n",
      "               concavity        0.020584\n",
      "               concave          0.003636\n",
      "nucleus three  points          13.379801\n",
      "               symmetry        23.515070\n",
      "               fractal         87.005938\n",
      "               dimension      558.899440\n",
      "               radius           0.124959\n",
      "               texture          0.182673\n",
      "               perimeter        0.166238\n",
      "               area             0.074444\n",
      "               smoothness       0.270246\n",
      "               compactness      0.079442\n",
      "dtype: float64\n"
     ]
    }
   ],
   "source": [
    "dftm = df[df['info']['Diagnosis'] == 'M']\n",
    "dftb = df[df['info']['Diagnosis'] == 'B']\n",
    "dftmstd = dftm.std()\n",
    "dftbstd = dftb.std()\n",
    "dftmmean = dftm.mean()\n",
    "dftbmean = dftb.mean()\n",
    "print(\"Respo\\0sta: \")\n",
    "print(\"---------\\nDesvio Padrão - tumor maligno\")\n",
    "print(dftmstd)\n",
    "print(\"---------\\nDesvio Padrão - tumor benigno\")\n",
    "print(dftbstd)\n",
    "print(\"---------\\nMédia - tumor maligno\")\n",
    "print(dftmmean)\n",
    "print(\"---------\\nMédia - tumor benigno\")\n",
    "print(dftbmean)"
   ]
  },
  {
   "cell_type": "markdown",
   "metadata": {},
   "source": [
    "c) (0,75 pontos) Plote um gráfico de forma que você consiga visualizar os valores de medidas calculadas no item anterior."
   ]
  },
  {
   "cell_type": "code",
   "execution_count": 8,
   "metadata": {},
   "outputs": [
    {
     "name": "stdout",
     "output_type": "stream",
     "text": [
      "Respo\u0000sta: \n"
     ]
    },
    {
     "data": {
      "image/png": "[encoded data removed]",
      "text/plain": [
       "<Figure size 432x288 with 1 Axes>"
      ]
     },
     "metadata": {
      "needs_background": "light"
     },
     "output_type": "display_data"
    }
   ],
   "source": [
    "dfplot = pd.DataFrame({\n",
    "    'Desvio Padrão - tumor maligno': dftmstd.values,\n",
    "    'Desvio Padrão - tumor benigno': dftbstd.values,\n",
    "    \"Média - tumor maligno\": dftmmean.values,\n",
    "    \"Média - tumor benigno\": dftbmean.values,\n",
    "})\n",
    "dfplot.plot.line()\n",
    "print(\"Respo\\0sta: \")"
   ]
  },
  {
   "cell_type": "markdown",
   "metadata": {},
   "source": [
    "d) (0,75 pontos) O interesse deste trabalho é verificar se algumas destas variáveis podem ajudar na classificação de novas amostras tumorais em benigno ou maligno. Com base no gráfico que você gerou no item anterior, sugira uma medida que seja importante na distinção entre o tumor benigno e maligno."
   ]
  },
  {
   "cell_type": "code",
   "execution_count": 9,
   "metadata": {},
   "outputs": [
    {
     "name": "stdout",
     "output_type": "stream",
     "text": [
      "nucleus three  dimension    569.356993\n",
      "nucleus one    area         351.914129\n",
      "nucleus two    texture       45.491006\n",
      "nucleus three  fractal       33.602542\n",
      "nucleus one    perimeter     24.298981\n",
      "nucleus three  symmetry       6.146258\n",
      "               points         4.833242\n",
      "nucleus one    texture        4.301036\n",
      "nucleus two    radius         2.021855\n",
      "dtype: float64\n",
      "-------------------------\n",
      "nucleus three  dimension    880.583128\n",
      "nucleus one    area         654.889104\n",
      "nucleus three  fractal      107.261213\n",
      "nucleus one    perimeter     91.969033\n",
      "nucleus two    texture       40.337079\n",
      "nucleus three  symmetry      25.677223\n",
      "nucleus one    texture       19.289649\n",
      "nucleus three  points        16.269190\n",
      "nucleus two    radius         2.866059\n",
      "dtype: float64\n"
     ]
    }
   ],
   "source": [
    "print(dfnum.std().sort_values(ascending=False).head(9))\n",
    "print('-------------------------')\n",
    "print(dfnum.mean().sort_values(ascending=False).head(9))"
   ]
  },
  {
   "cell_type": "markdown",
   "metadata": {},
   "source": [
    "Resposta: Com base na observação do gráfico nos dados da tabela acima, podemos distiguir melhor os tumores atráves das medidas de area, perímetro e textura. Eu sugiro que área dos núcleos seja uma medida usada para fazer a distinção, tumores malignos apresentam média e desvio padrão da área muito maiores que os benignos. "
   ]
  }
 ],
 "metadata": {
  "kernelspec": {
   "display_name": "myenv",
   "language": "python",
   "name": "myenv"
  },
  "language_info": {
   "codemirror_mode": {
    "name": "ipython",
    "version": 3
   },
   "file_extension": ".py",
   "mimetype": "text/x-python",
   "name": "python",
   "nbconvert_exporter": "python",
   "pygments_lexer": "ipython3",
   "version": "3.7.3"
  }
 },
 "nbformat": 4,
 "nbformat_minor": 2
}
